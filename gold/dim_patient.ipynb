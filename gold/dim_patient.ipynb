{
 "cells": [
  {
   "cell_type": "code",
   "execution_count": 0,
   "metadata": {
    "application/vnd.databricks.v1+cell": {
     "cellMetadata": {
      "byteLimit": 2048000,
      "implicitDf": true,
      "rowLimit": 10000
     },
     "inputWidgets": {},
     "nuid": "369368bf-71f6-4e79-88ff-5a219a5bb774",
     "showTitle": false,
     "tableResultSettingsMap": {},
     "title": ""
    }
   },
   "outputs": [],
   "source": [
    "%sql\n",
    "CREATE TABLE IF NOT EXISTS gold.dim_patient\n",
    "(\n",
    "    patient_key STRING,\n",
    "    src_patientid STRING,\n",
    "    firstname STRING,\n",
    "    lastname STRING,\n",
    "    middlename STRING,\n",
    "    ssn STRING,\n",
    "    phonenumber STRING,\n",
    "    gender STRING,\n",
    "    dob DATE,\n",
    "    address STRING,\n",
    "    datasource STRING\n",
    ")\n"
   ]
  },
  {
   "cell_type": "code",
   "execution_count": 0,
   "metadata": {
    "application/vnd.databricks.v1+cell": {
     "cellMetadata": {
      "byteLimit": 2048000,
      "implicitDf": true,
      "rowLimit": 10000
     },
     "inputWidgets": {},
     "nuid": "5eddc302-e168-43fe-ae7e-e643185d592b",
     "showTitle": false,
     "tableResultSettingsMap": {},
     "title": ""
    }
   },
   "outputs": [],
   "source": [
    "%sql \n",
    "truncate TABLE gold.dim_patient"
   ]
  },
  {
   "cell_type": "code",
   "execution_count": 0,
   "metadata": {
    "application/vnd.databricks.v1+cell": {
     "cellMetadata": {
      "byteLimit": 2048000,
      "implicitDf": true,
      "rowLimit": 10000
     },
     "inputWidgets": {},
     "nuid": "f3b1c6fe-68a0-479c-8544-509558c8ced7",
     "showTitle": false,
     "tableResultSettingsMap": {},
     "title": ""
    }
   },
   "outputs": [],
   "source": [
    "%sql\n",
    "insert into gold.dim_patient\n",
    "select \n",
    "     patient_key ,\n",
    "    src_patientid ,\n",
    "    firstname ,\n",
    "    lastname ,\n",
    "    middlename ,\n",
    "    ssn ,\n",
    "    phonenumber ,\n",
    "    gender ,\n",
    "    dob ,\n",
    "    address ,\n",
    "    datasource \n",
    " from silver.patients\n",
    " where is_current=true and is_quarantined=false\n"
   ]
  }
 ],
 "metadata": {
  "application/vnd.databricks.v1+notebook": {
   "computePreferences": null,
   "dashboards": [],
   "environmentMetadata": {
    "base_environment": "",
    "environment_version": "2"
   },
   "language": "python",
   "notebookMetadata": {
    "mostRecentlyExecutedCommandWithImplicitDF": {
     "commandId": 6656729890920496,
     "dataframes": [
      "_sqldf"
     ]
    },
    "pythonIndentUnit": 4
   },
   "notebookName": "dim_patient",
   "widgets": {}
  },
  "language_info": {
   "name": "python"
  }
 },
 "nbformat": 4,
 "nbformat_minor": 0
}
