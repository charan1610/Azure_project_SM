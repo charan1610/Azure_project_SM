{
 "cells": [
  {
   "cell_type": "code",
   "execution_count": 0,
   "metadata": {
    "application/vnd.databricks.v1+cell": {
     "cellMetadata": {
      "byteLimit": 2048000,
      "rowLimit": 10000
     },
     "inputWidgets": {},
     "nuid": "fcc4d5ee-7533-4afb-962b-6f12d08e131d",
     "showTitle": false,
     "tableResultSettingsMap": {},
     "title": ""
    }
   },
   "outputs": [],
   "source": [
    "from pyspark.sql import SparkSession, functions as f\n",
    "# Read the CSV file\n",
    "cptcodes_df = spark.read.csv(\"/mnt/landing/CPT Codes/*.csv\", header=True)\n",
    "\n",
    "# Replace whitespaces in column names with underscores and convert to lowercase\n",
    "for col in cptcodes_df.columns:\n",
    "    new_col = col.replace(\" \", \"_\").lower()\n",
    "    cptcodes_df = cptcodes_df.withColumnRenamed(col, new_col)\n",
    "cptcodes_df.createOrReplaceTempView(\"cptcodes\")\n",
    "display(cptcodes_df)"
   ]
  },
  {
   "cell_type": "code",
   "execution_count": 0,
   "metadata": {
    "application/vnd.databricks.v1+cell": {
     "cellMetadata": {
      "byteLimit": 2048000,
      "rowLimit": 10000
     },
     "inputWidgets": {},
     "nuid": "a92413eb-9338-4d99-8d54-6ddd34736199",
     "showTitle": false,
     "tableResultSettingsMap": {},
     "title": ""
    }
   },
   "outputs": [],
   "source": [
    "cptcodes_df.write.format(\"parquet\").mode(\"overwrite\").save(\"/mnt/bronze/cpt_codes\")"
   ]
  },
  {
   "cell_type": "code",
   "execution_count": 0,
   "metadata": {
    "application/vnd.databricks.v1+cell": {
     "cellMetadata": {
      "byteLimit": 2048000,
      "implicitDf": true,
      "rowLimit": 10000
     },
     "inputWidgets": {},
     "nuid": "40a4d4ad-0d49-47c3-8a13-f77af9a56e42",
     "showTitle": false,
     "tableResultSettingsMap": {},
     "title": ""
    }
   },
   "outputs": [],
   "source": [
    "%sql\n",
    "select * from cptcodes"
   ]
  },
  {
   "cell_type": "code",
   "execution_count": 0,
   "metadata": {
    "application/vnd.databricks.v1+cell": {
     "cellMetadata": {},
     "inputWidgets": {},
     "nuid": "c23db258-d40b-4df7-afc7-b1aed3f31597",
     "showTitle": false,
     "tableResultSettingsMap": {},
     "title": ""
    }
   },
   "outputs": [],
   "source": [
    " %sql\n",
    " CREATE OR REPLACE TEMP VIEW quality_checks AS\n",
    " SELECT \n",
    "   cpt_codes,\n",
    "   procedure_code_category,\n",
    "   procedure_code_descriptions,\n",
    "   code_status,\n",
    "      CASE \n",
    "          WHEN cpt_codes IS NULL OR procedure_code_descriptions IS NULL  THEN TRUE\n",
    "          ELSE FALSE\n",
    "      END AS is_quarantined\n",
    " FROM cptcodes"
   ]
  },
  {
   "cell_type": "code",
   "execution_count": 0,
   "metadata": {
    "application/vnd.databricks.v1+cell": {
     "cellMetadata": {},
     "inputWidgets": {},
     "nuid": "f417d79b-af74-4e7e-b379-5dc5a8abdf72",
     "showTitle": false,
     "tableResultSettingsMap": {},
     "title": ""
    }
   },
   "outputs": [],
   "source": [
    "%sql\n",
    "select * from quality_checks"
   ]
  },
  {
   "cell_type": "code",
   "execution_count": 0,
   "metadata": {
    "application/vnd.databricks.v1+cell": {
     "cellMetadata": {},
     "inputWidgets": {},
     "nuid": "c1f78574-37ec-4a90-b8c9-3f33a045dbef",
     "showTitle": false,
     "tableResultSettingsMap": {},
     "title": ""
    }
   },
   "outputs": [],
   "source": [
    "%sql\n",
    "CREATE TABLE IF NOT EXISTS silver.cptcodes (\n",
    "cpt_codes string,\n",
    "procedure_code_category string,\n",
    "procedure_code_descriptions string,\n",
    "code_status string,\n",
    "is_quarantined boolean,\n",
    "audit_insertdate timestamp,\n",
    "audit_modifieddate timestamp,\n",
    "is_current boolean\n",
    " )\n",
    "USING DELTA;"
   ]
  },
  {
   "cell_type": "code",
   "execution_count": 0,
   "metadata": {
    "application/vnd.databricks.v1+cell": {
     "cellMetadata": {},
     "inputWidgets": {},
     "nuid": "7c709cee-1c0c-4d3c-9f19-7610317c098e",
     "showTitle": false,
     "tableResultSettingsMap": {},
     "title": ""
    }
   },
   "outputs": [],
   "source": [
    "  %sql\n",
    "  -- Update old record to implement SCD Type 2\n",
    "  MERGE INTO silver.cptcodes AS target\n",
    "  USING quality_checks AS source\n",
    "  ON target.cpt_codes = source.cpt_codes AND target.is_current = true\n",
    "  WHEN MATCHED AND (\n",
    "      target.procedure_code_category != source.procedure_code_category OR\n",
    "      target.procedure_code_descriptions != source.procedure_code_descriptions OR\n",
    "      target.code_status != source.code_status OR\n",
    "      target.is_quarantined != source.is_quarantined\n",
    "  ) THEN\n",
    "    UPDATE SET\n",
    "      target.is_current = false,\n",
    "      target.audit_modifieddate = current_timestamp()"
   ]
  },
  {
   "cell_type": "code",
   "execution_count": 0,
   "metadata": {
    "application/vnd.databricks.v1+cell": {
     "cellMetadata": {},
     "inputWidgets": {},
     "nuid": "a5437a1e-a649-4ffd-a35d-514ed07f8c8d",
     "showTitle": false,
     "tableResultSettingsMap": {},
     "title": ""
    }
   },
   "outputs": [],
   "source": [
    " %sql\n",
    "  -- Insert new record to implement SCD Type 2\n",
    "  MERGE INTO silver.cptcodes AS target\n",
    "  USING quality_checks AS source\n",
    "  ON target.cpt_codes = source.cpt_codes AND target.is_current = true\n",
    "  WHEN NOT MATCHED THEN\n",
    "    INSERT (\n",
    "      cpt_codes,\n",
    "      procedure_code_category,\n",
    "      procedure_code_descriptions,\n",
    "      code_status,\n",
    "      is_quarantined,\n",
    "      audit_insertdate,\n",
    "      audit_modifieddate,\n",
    "      is_current\n",
    "    )\n",
    "    VALUES (\n",
    "      source.cpt_codes,\n",
    "      source.procedure_code_category,\n",
    "      source.procedure_code_descriptions,\n",
    "      source.code_status,\n",
    "      source.is_quarantined,\n",
    "      current_timestamp(),\n",
    "      current_timestamp(),\n",
    "      true\n",
    "    );"
   ]
  },
  {
   "cell_type": "code",
   "execution_count": 0,
   "metadata": {
    "application/vnd.databricks.v1+cell": {
     "cellMetadata": {},
     "inputWidgets": {},
     "nuid": "b941bdbe-be13-466f-9710-610322be6783",
     "showTitle": false,
     "tableResultSettingsMap": {},
     "title": ""
    }
   },
   "outputs": [],
   "source": [
    "%sql\n",
    "select * from  bronze.cptcodes"
   ]
  }
 ],
 "metadata": {
  "application/vnd.databricks.v1+notebook": {
   "computePreferences": null,
   "dashboards": [],
   "environmentMetadata": {
    "base_environment": "",
    "environment_version": "2"
   },
   "language": "python",
   "notebookMetadata": {
    "mostRecentlyExecutedCommandWithImplicitDF": {
     "commandId": 8584642699546027,
     "dataframes": [
      "_sqldf"
     ]
    },
    "pythonIndentUnit": 4
   },
   "notebookName": "CPT codes",
   "widgets": {}
  },
  "language_info": {
   "name": "python"
  }
 },
 "nbformat": 4,
 "nbformat_minor": 0
}
