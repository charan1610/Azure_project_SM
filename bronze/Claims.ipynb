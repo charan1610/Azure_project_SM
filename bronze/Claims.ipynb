{
 "cells": [
  {
   "cell_type": "code",
   "execution_count": 0,
   "metadata": {
    "application/vnd.databricks.v1+cell": {
     "cellMetadata": {
      "byteLimit": 2048000,
      "rowLimit": 10000
     },
     "inputWidgets": {},
     "nuid": "2c02a784-c1ca-408e-b173-e5f188cbaff1",
     "showTitle": false,
     "tableResultSettingsMap": {},
     "title": ""
    }
   },
   "outputs": [],
   "source": [
    "# Databricks notebook source\n",
    "from pyspark.sql import SparkSession, functions as f\n",
    "\n",
    "claims_df=spark.read.csv(\"/mnt/landing/Claims/*.csv\",header=True)\n",
    "\n",
    "claims_df = claims_df.withColumn(\n",
    "    \"datasource\",\n",
    "    f.when(f.input_file_name().contains(\"hospital1\"), \"hosa\").when(f.input_file_name().contains(\"hospital2\"), \"hosb\")\n",
    "     .otherwise(None)\n",
    ")\n",
    "\n",
    "display(claims_df)\n"
   ]
  },
  {
   "cell_type": "code",
   "execution_count": 0,
   "metadata": {
    "application/vnd.databricks.v1+cell": {
     "cellMetadata": {
      "byteLimit": 2048000,
      "rowLimit": 10000
     },
     "inputWidgets": {},
     "nuid": "947a7d3e-cc12-4aaf-8760-5099f8e45b13",
     "showTitle": false,
     "tableResultSettingsMap": {},
     "title": ""
    }
   },
   "outputs": [],
   "source": [
    "claims_df.write.format(\"parquet\").mode(\"overwrite\").save(\"/mnt/bronze/claims/\")\n",
    "claims_df.createOrReplaceTempView(\"claims\")"
   ]
  },
  {
   "cell_type": "code",
   "execution_count": 0,
   "metadata": {
    "application/vnd.databricks.v1+cell": {
     "cellMetadata": {
      "byteLimit": 2048000,
      "implicitDf": true,
      "rowLimit": 10000
     },
     "inputWidgets": {},
     "nuid": "5cb299c2-fffd-4c47-a95f-a83f53457ff4",
     "showTitle": false,
     "tableResultSettingsMap": {},
     "title": ""
    }
   },
   "outputs": [],
   "source": [
    "%sql\n",
    "CREATE OR REPLACE TEMP VIEW quality_checks AS\n",
    "SELECT \n",
    "    CONCAT(ClaimID, '-', datasource) AS ClaimID,\n",
    "    ClaimID AS SRC_ClaimID,\n",
    "    TransactionID,\n",
    "    PatientID,\n",
    "    EncounterID,\n",
    "    ProviderID,\n",
    "    DeptID,\n",
    "    CAST(ServiceDate AS DATE) AS ServiceDate,\n",
    "    CAST(ClaimDate AS DATE) AS ClaimDate,\n",
    "    PayorID,\n",
    "    ClaimAmount,\n",
    "    PaidAmount,\n",
    "    ClaimStatus,\n",
    "    PayorType,\n",
    "    Deductible,\n",
    "    Coinsurance,\n",
    "    Copay,\n",
    "    CAST(InsertDate AS DATE) AS SRC_InsertDate,\n",
    "    CAST(ModifiedDate AS DATE) AS SRC_ModifiedDate,\n",
    "    datasource,\n",
    "    CASE \n",
    "        WHEN ClaimID IS NULL OR TransactionID IS NULL OR PatientID IS NULL OR ServiceDate IS NULL THEN TRUE\n",
    "        ELSE FALSE\n",
    "    END AS is_quarantined\n",
    "FROM claims;\n"
   ]
  },
  {
   "cell_type": "code",
   "execution_count": 0,
   "metadata": {
    "application/vnd.databricks.v1+cell": {
     "cellMetadata": {
      "byteLimit": 2048000,
      "implicitDf": true,
      "rowLimit": 10000
     },
     "inputWidgets": {},
     "nuid": "77d1ce60-6d03-4bd3-8f32-4aff95b9a09b",
     "showTitle": false,
     "tableResultSettingsMap": {},
     "title": ""
    }
   },
   "outputs": [],
   "source": [
    "%sql\n",
    "select * from quality_checks"
   ]
  },
  {
   "cell_type": "code",
   "execution_count": 0,
   "metadata": {
    "application/vnd.databricks.v1+cell": {
     "cellMetadata": {},
     "inputWidgets": {},
     "nuid": "becc8495-c2ab-4f3b-8718-0bdca280dce7",
     "showTitle": false,
     "tableResultSettingsMap": {},
     "title": ""
    }
   },
   "outputs": [],
   "source": [
    " %sql\n",
    "CREATE TABLE IF NOT EXISTS bronze.claims (\n",
    " ClaimID string,\n",
    " SRC_ClaimID string,\n",
    " TransactionID string,\n",
    " PatientID string,\n",
    " EncounterID string,\n",
    " ProviderID string,\n",
    " DeptID string,\n",
    " ServiceDate date,\n",
    " ClaimDate date,\n",
    " PayorID string,\n",
    " ClaimAmount string,\n",
    " PaidAmount string,\n",
    " ClaimStatus string,\n",
    " PayorType string,\n",
    " Deductible string,\n",
    " Coinsurance string,\n",
    " Copay string,\n",
    " SRC_InsertDate date,\n",
    " SRC_ModifiedDate date,\n",
    " datasource string,\n",
    " is_quarantined boolean,\n",
    " audit_insertdate timestamp,\n",
    " audit_modifieddate timestamp,\n",
    " is_current boolean\n",
    " )\n",
    "USING DELTA;\n"
   ]
  },
  {
   "cell_type": "code",
   "execution_count": 0,
   "metadata": {
    "application/vnd.databricks.v1+cell": {
     "cellMetadata": {},
     "inputWidgets": {},
     "nuid": "ec3854df-32ad-4ec1-9a8c-d8705ec6d3c5",
     "showTitle": false,
     "tableResultSettingsMap": {},
     "title": ""
    }
   },
   "outputs": [],
   "source": [
    "  %sql\n",
    "  -- Update old record to implement SCD Type 2\n",
    "  MERGE INTO silver.claims AS target\n",
    "  USING quality_checks AS source\n",
    "  ON target.ClaimID = source.ClaimID AND target.is_current = true\n",
    "  WHEN MATCHED AND (\n",
    "      target.SRC_ClaimID != source.SRC_ClaimID OR\n",
    "      target.TransactionID != source.TransactionID OR\n",
    "      target.PatientID != source.PatientID OR\n",
    "      target.EncounterID != source.EncounterID OR\n",
    "      target.ProviderID != source.ProviderID OR\n",
    "      target.DeptID != source.DeptID OR\n",
    "      target.ServiceDate != source.ServiceDate OR\n",
    "      target.ClaimDate != source.ClaimDate OR\n",
    "      target.PayorID != source.PayorID OR\n",
    "      target.ClaimAmount != source.ClaimAmount OR\n",
    "      target.PaidAmount != source.PaidAmount OR\n",
    "      target.ClaimStatus != source.ClaimStatus OR\n",
    "      target.PayorType != source.PayorType OR\n",
    "      target.Deductible != source.Deductible OR\n",
    "      target.Coinsurance != source.Coinsurance OR\n",
    "      target.Copay != source.Copay OR\n",
    "      target.SRC_InsertDate != source.SRC_InsertDate OR\n",
    "      target.SRC_ModifiedDate != source.SRC_ModifiedDate OR\n",
    "      target.datasource != source.datasource OR\n",
    "      target.is_quarantined != source.is_quarantined\n",
    "  ) THEN\n",
    "    UPDATE SET\n",
    "      target.is_current = false,\n",
    "      target.audit_modifieddate = current_timestamp()\n",
    " "
   ]
  },
  {
   "cell_type": "code",
   "execution_count": 0,
   "metadata": {
    "application/vnd.databricks.v1+cell": {
     "cellMetadata": {},
     "inputWidgets": {},
     "nuid": "9ec32d74-7d9a-4abe-8e80-1413d185b0bd",
     "showTitle": false,
     "tableResultSettingsMap": {},
     "title": ""
    }
   },
   "outputs": [],
   "source": [
    " %sql\n",
    "  -- Insert new record to implement SCD Type 2\n",
    "  MERGE INTO silver.claims AS target\n",
    "  USING quality_checks AS source\n",
    "  ON target.ClaimID = source.ClaimID AND target.is_current = true\n",
    "  WHEN NOT MATCHED THEN\n",
    "    INSERT (\n",
    "      ClaimID,\n",
    "      SRC_ClaimID,\n",
    "      TransactionID,\n",
    "      PatientID,\n",
    "      EncounterID,\n",
    "      ProviderID,\n",
    "      DeptID,\n",
    "      ServiceDate,\n",
    "      ClaimDate,\n",
    "      PayorID,\n",
    "      ClaimAmount,\n",
    "      PaidAmount,\n",
    "      ClaimStatus,\n",
    "      PayorType,\n",
    "      Deductible,\n",
    "      Coinsurance,\n",
    "      Copay,\n",
    "      SRC_InsertDate,\n",
    "      SRC_ModifiedDate,\n",
    "      datasource,\n",
    "      is_quarantined,\n",
    "      audit_insertdate,\n",
    "      audit_modifieddate,\n",
    "      is_current\n",
    "    )\n",
    "    VALUES (\n",
    "      source.ClaimID,\n",
    "      source.SRC_ClaimID,\n",
    "      source.TransactionID,\n",
    "      source.PatientID,\n",
    "      source.EncounterID,\n",
    "      source.ProviderID,\n",
    "      source.DeptID,\n",
    "      source.ServiceDate,\n",
    "      source.ClaimDate,\n",
    "      source.PayorID,\n",
    "      source.ClaimAmount,\n",
    "      source.PaidAmount,\n",
    "      source.ClaimStatus,\n",
    "      source.PayorType,\n",
    "      source.Deductible,\n",
    "      source.Coinsurance,\n",
    "      source.Copay,\n",
    "      source.SRC_InsertDate,\n",
    "      source.SRC_ModifiedDate,\n",
    "      source.datasource,\n",
    "      source.is_quarantined,\n",
    "      current_timestamp(),\n",
    "      current_timestamp(),\n",
    "      true\n",
    "    );\n"
   ]
  },
  {
   "cell_type": "code",
   "execution_count": 0,
   "metadata": {
    "application/vnd.databricks.v1+cell": {
     "cellMetadata": {},
     "inputWidgets": {},
     "nuid": "236b63e6-236e-4441-813f-8c8a4943f8ea",
     "showTitle": false,
     "tableResultSettingsMap": {},
     "title": ""
    }
   },
   "outputs": [],
   "source": [
    "%sql\n",
    "select * from  bronze.claims"
   ]
  }
 ],
 "metadata": {
  "application/vnd.databricks.v1+notebook": {
   "computePreferences": null,
   "dashboards": [],
   "environmentMetadata": {
    "base_environment": "",
    "environment_version": "2"
   },
   "language": "python",
   "notebookMetadata": {
    "mostRecentlyExecutedCommandWithImplicitDF": {
     "commandId": 8584642699546019,
     "dataframes": [
      "_sqldf"
     ]
    },
    "pythonIndentUnit": 4
   },
   "notebookName": "Claims",
   "widgets": {}
  },
  "language_info": {
   "name": "python"
  }
 },
 "nbformat": 4,
 "nbformat_minor": 0
}
