{
 "cells": [
  {
   "cell_type": "code",
   "execution_count": 0,
   "metadata": {
    "application/vnd.databricks.v1+cell": {
     "cellMetadata": {
      "byteLimit": 2048000,
      "rowLimit": 10000
     },
     "inputWidgets": {},
     "nuid": "962ee001-63da-4a78-b324-50f778997861",
     "showTitle": false,
     "tableResultSettingsMap": {},
     "title": ""
    }
   },
   "outputs": [],
   "source": [
    "claims_df =spark.read.format(\"parquet\").load(\"/mnt/bronze/claims/\")\n",
    "\n",
    "# COMMAND ----------\n",
    "\n",
    "claims_df.createOrReplaceTempView(\"claims\")"
   ]
  },
  {
   "cell_type": "code",
   "execution_count": 0,
   "metadata": {
    "application/vnd.databricks.v1+cell": {
     "cellMetadata": {
      "byteLimit": 2048000,
      "implicitDf": true,
      "rowLimit": 10000
     },
     "inputWidgets": {},
     "nuid": "1ef19241-17f7-4401-acb2-e8ee895fcdb3",
     "showTitle": false,
     "tableResultSettingsMap": {},
     "title": ""
    }
   },
   "outputs": [],
   "source": [
    "%sql\n",
    "CREATE OR REPLACE TEMP VIEW quality_checks AS\n",
    "SELECT \n",
    "    CONCAT(ClaimID, '-', datasource) AS ClaimID,\n",
    "    ClaimID AS SRC_ClaimID,\n",
    "    TransactionID,\n",
    "    PatientID,\n",
    "    EncounterID,\n",
    "    ProviderID,\n",
    "    DeptID,\n",
    "    CAST(ServiceDate AS DATE) AS ServiceDate,\n",
    "    CAST(ClaimDate AS DATE) AS ClaimDate,\n",
    "    PayorID,\n",
    "    ClaimAmount,\n",
    "    PaidAmount,\n",
    "    ClaimStatus,\n",
    "    PayorType,\n",
    "    Deductible,\n",
    "    Coinsurance,\n",
    "    Copay,\n",
    "    CAST(InsertDate AS DATE) AS SRC_InsertDate,\n",
    "    CAST(ModifiedDate AS DATE) AS SRC_ModifiedDate,\n",
    "    datasource,\n",
    "    CASE \n",
    "        WHEN ClaimID IS NULL OR TransactionID IS NULL OR PatientID IS NULL OR ServiceDate IS NULL THEN TRUE\n",
    "        ELSE FALSE\n",
    "    END AS is_quarantined\n",
    "FROM claims;"
   ]
  },
  {
   "cell_type": "code",
   "execution_count": 0,
   "metadata": {
    "application/vnd.databricks.v1+cell": {
     "cellMetadata": {
      "byteLimit": 2048000,
      "implicitDf": true,
      "rowLimit": 10000
     },
     "inputWidgets": {},
     "nuid": "e6ec4efd-8ac9-4e02-80ce-d6af144876e3",
     "showTitle": false,
     "tableResultSettingsMap": {},
     "title": ""
    }
   },
   "outputs": [],
   "source": [
    "%sql\n",
    "select * from quality_checks"
   ]
  },
  {
   "cell_type": "code",
   "execution_count": 0,
   "metadata": {
    "application/vnd.databricks.v1+cell": {
     "cellMetadata": {
      "byteLimit": 2048000,
      "implicitDf": true,
      "rowLimit": 10000
     },
     "inputWidgets": {},
     "nuid": "cde681ec-0826-4c7f-8901-c0be38d38cdf",
     "showTitle": false,
     "tableResultSettingsMap": {},
     "title": ""
    }
   },
   "outputs": [],
   "source": [
    "%sql\n",
    "CREATE TABLE IF NOT EXISTS silver.claims (\n",
    " ClaimID string,\n",
    " SRC_ClaimID string,\n",
    " TransactionID string,\n",
    " PatientID string,\n",
    " EncounterID string,\n",
    " ProviderID string,\n",
    " DeptID string,\n",
    " ServiceDate date,\n",
    " ClaimDate date,\n",
    " PayorID string,\n",
    " ClaimAmount string,\n",
    " PaidAmount string,\n",
    " ClaimStatus string,\n",
    " PayorType string,\n",
    " Deductible string,\n",
    " Coinsurance string,\n",
    " Copay string,\n",
    " SRC_InsertDate date,\n",
    " SRC_ModifiedDate date,\n",
    " datasource string,\n",
    " is_quarantined boolean,\n",
    " audit_insertdate timestamp,\n",
    " audit_modifieddate timestamp,\n",
    " is_current boolean\n",
    " )\n",
    "USING DELTA;"
   ]
  },
  {
   "cell_type": "code",
   "execution_count": 0,
   "metadata": {
    "application/vnd.databricks.v1+cell": {
     "cellMetadata": {
      "byteLimit": 2048000,
      "implicitDf": true,
      "rowLimit": 10000
     },
     "inputWidgets": {},
     "nuid": "328a664b-a0ca-44c7-a023-578520199a68",
     "showTitle": false,
     "tableResultSettingsMap": {},
     "title": ""
    }
   },
   "outputs": [],
   "source": [
    "%sql\n",
    "-- Update old record to implement SCD Type 2\n",
    "MERGE INTO silver.claims AS target\n",
    "USING quality_checks AS source\n",
    "ON target.ClaimID = source.ClaimID AND target.is_current = true\n",
    "WHEN MATCHED AND (\n",
    "    target.SRC_ClaimID != source.SRC_ClaimID OR\n",
    "    target.TransactionID != source.TransactionID OR\n",
    "    target.PatientID != source.PatientID OR\n",
    "    target.EncounterID != source.EncounterID OR\n",
    "\ttarget.ProviderID != source.ProviderID OR\n",
    "    target.DeptID != source.DeptID OR\n",
    "    target.ServiceDate != source.ServiceDate OR\n",
    "    target.ClaimDate != source.ClaimDate OR\n",
    "    target.PayorID != source.PayorID OR\n",
    "    target.ClaimAmount != source.ClaimAmount OR\n",
    "    target.PaidAmount != source.PaidAmount OR\n",
    "    target.ClaimStatus != source.ClaimStatus OR\n",
    "    target.PayorType != source.PayorType OR\n",
    "    target.Deductible != source.Deductible OR\n",
    "    target.Coinsurance != source.Coinsurance OR\n",
    "    target.Copay != source.Copay OR\n",
    "    target.SRC_InsertDate != source.SRC_InsertDate OR\n",
    "    target.SRC_ModifiedDate != source.SRC_ModifiedDate OR\n",
    "    target.datasource != source.datasource OR\n",
    "    target.is_quarantined != source.is_quarantined\n",
    " ) THEN\n",
    "   UPDATE SET\n",
    "    target.is_current = false,\n",
    "    target.audit_modifieddate = current_timestamp()"
   ]
  },
  {
   "cell_type": "code",
   "execution_count": 0,
   "metadata": {
    "application/vnd.databricks.v1+cell": {
     "cellMetadata": {
      "byteLimit": 2048000,
      "implicitDf": true,
      "rowLimit": 10000
     },
     "inputWidgets": {},
     "nuid": "d83d8587-c8d3-4c1d-bc5f-a12147cd38c1",
     "showTitle": false,
     "tableResultSettingsMap": {},
     "title": ""
    }
   },
   "outputs": [],
   "source": [
    "%sql\n",
    "  -- Insert new record to implement SCD Type 2\n",
    "  MERGE INTO silver.claims AS target\n",
    "  USING quality_checks AS source\n",
    "  ON target.ClaimID = source.ClaimID AND target.is_current = true\n",
    "  WHEN NOT MATCHED THEN\n",
    "    INSERT (\n",
    "      ClaimID,\n",
    "      SRC_ClaimID,\n",
    "      TransactionID,\n",
    "      PatientID,\n",
    "      EncounterID,\n",
    "      ProviderID,\n",
    "      DeptID,\n",
    "      ServiceDate,\n",
    "      ClaimDate,\n",
    "      PayorID,\n",
    "      ClaimAmount,\n",
    "      PaidAmount,\n",
    "      ClaimStatus,\n",
    "      PayorType,\n",
    "      Deductible,\n",
    "      Coinsurance,\n",
    "      Copay,\n",
    "      SRC_InsertDate,\n",
    "      SRC_ModifiedDate,\n",
    "      datasource,\n",
    "      is_quarantined,\n",
    "      audit_insertdate,\n",
    "      audit_modifieddate,\n",
    "      is_current\n",
    "    )\n",
    "    VALUES (\n",
    "      source.ClaimID,\n",
    "      source.SRC_ClaimID,\n",
    "      source.TransactionID,\n",
    "      source.PatientID,\n",
    "      source.EncounterID,\n",
    "      source.ProviderID,\n",
    "      source.DeptID,\n",
    "      source.ServiceDate,\n",
    "      source.ClaimDate,\n",
    "      source.PayorID,\n",
    "      source.ClaimAmount,\n",
    "      source.PaidAmount,\n",
    "      source.ClaimStatus,\n",
    "      source.PayorType,\n",
    "      source.Deductible,\n",
    "      source.Coinsurance,\n",
    "      source.Copay,\n",
    "      source.SRC_InsertDate,\n",
    "      source.SRC_ModifiedDate,\n",
    "      source.datasource,\n",
    "      source.is_quarantined,\n",
    "      current_timestamp(),\n",
    "      current_timestamp(),\n",
    "      true\n",
    "    );"
   ]
  }
 ],
 "metadata": {
  "application/vnd.databricks.v1+notebook": {
   "computePreferences": null,
   "dashboards": [],
   "environmentMetadata": {
    "base_environment": "",
    "environment_version": "2"
   },
   "language": "python",
   "notebookMetadata": {
    "mostRecentlyExecutedCommandWithImplicitDF": {
     "commandId": 5775004477169154,
     "dataframes": [
      "_sqldf"
     ]
    },
    "pythonIndentUnit": 4
   },
   "notebookName": "Claims",
   "widgets": {}
  },
  "language_info": {
   "name": "python"
  }
 },
 "nbformat": 4,
 "nbformat_minor": 0
}
