{
 "cells": [
  {
   "cell_type": "code",
   "execution_count": 0,
   "metadata": {
    "application/vnd.databricks.v1+cell": {
     "cellMetadata": {
      "byteLimit": 2048000,
      "rowLimit": 10000
     },
     "inputWidgets": {},
     "nuid": "aaa63f36-5be1-477c-bb3e-504201100fe6",
     "showTitle": false,
     "tableResultSettingsMap": {},
     "title": ""
    }
   },
   "outputs": [],
   "source": [
    "# Databricks notebook source\n",
    "storageAccountName = \"hospitaldatadev\"\n",
    "storageAccountAccessKey = dbutils.secrets.get('tt-hosp-kv', 'Hosp-adlsSec')\n",
    "mountPoints=[\"gold\",\"silver\",\"bronze\",\"landing\",\"configs\"]\n",
    "for mountPoint in mountPoints:\n",
    "    if not any(mount.mountPoint == f\"/mnt/{mountPoint}\" for mount in dbutils.fs.mounts()):\n",
    "        try:\n",
    "            dbutils.fs.mount(\n",
    "            source = \"wasbs://{}@{}.blob.core.windows.net\".format(mountPoint, storageAccountName),\n",
    "            mount_point = f\"/mnt/{mountPoint}\",\n",
    "            extra_configs = {'fs.azure.account.key.' + storageAccountName + '.blob.core.windows.net': storageAccountAccessKey}\n",
    "            )\n",
    "            print(f\"{mountPoint} mount succeeded!\")\n",
    "        except Exception as e:\n",
    "            print(\"mount exception\", e)\n",
    "\n",
    "\n",
    "dbutils.fs.mounts()"
   ]
  },
  {
   "cell_type": "code",
   "execution_count": 0,
   "metadata": {
    "application/vnd.databricks.v1+cell": {
     "cellMetadata": {
      "byteLimit": 2048000,
      "rowLimit": 10000
     },
     "inputWidgets": {},
     "nuid": "09410730-f0f6-484e-9c0f-fabf7480dc13",
     "showTitle": false,
     "tableResultSettingsMap": {},
     "title": ""
    }
   },
   "outputs": [],
   "source": [
    "dbutils.secrets.list(\"tt-hosp-kv\")"
   ]
  }
 ],
 "metadata": {
  "application/vnd.databricks.v1+notebook": {
   "computePreferences": null,
   "dashboards": [],
   "environmentMetadata": {
    "base_environment": "",
    "environment_version": "2"
   },
   "language": "python",
   "notebookMetadata": {
    "pythonIndentUnit": 4
   },
   "notebookName": "mount_adls",
   "widgets": {}
  },
  "language_info": {
   "name": "python"
  }
 },
 "nbformat": 4,
 "nbformat_minor": 0
}
